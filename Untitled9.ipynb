{
  "nbformat": 4,
  "nbformat_minor": 0,
  "metadata": {
    "colab": {
      "provenance": []
    },
    "kernelspec": {
      "name": "python3",
      "display_name": "Python 3"
    },
    "language_info": {
      "name": "python"
    }
  },
  "cells": [
    {
      "cell_type": "code",
      "execution_count": null,
      "metadata": {
        "id": "Mgm0BFEZsNes"
      },
      "outputs": [],
      "source": []
    },
    {
      "cell_type": "markdown",
      "metadata": {
        "id": "8Q3ZR0hzKPH1"
      },
      "source": [
        "** bold textQ 1:**\n",
        "\n",
        "Define a function named **words_dict**.\n",
        "\n",
        "It will read `en_words.txt` file and will create a dictionary from these words.\n",
        "\n",
        "It will only take the words that have more than or equal to 19 letters.\n",
        "\n",
        "The Key of the dictionary will be the word itself and the Value will be number of letters in the word.\n",
        "\n",
        "The function will return this dictionary.\n",
        "\n",
        "**Hints:**\n",
        "* open()\n",
        "\n",
        "<pre>\n",
        "Expected Output:\n",
        "\n",
        "{\n",
        " 'anticonservationist': 19,\n",
        " 'comprehensivenesses': 19,\n",
        " 'counterdemonstration': 20,\n",
        " 'counterdemonstrations': 21,\n",
        " ...\n",
        "}\n",
        "</pre>"
      ]
    },
    {
      "cell_type": "code",
      "execution_count": 2,
      "metadata": {
        "id": "VRmmRZKrKPH3"
      },
      "outputs": [],
      "source": [
        "# S 1:\n",
        "def words_dict():\n",
        "    word_dict = {}\n",
        "\n",
        "    with open('/content/en_words.txt', 'r') as file:\n",
        "        for line in file:\n",
        "            word = line.strip()\n",
        "            if len(word) >= 19:\n",
        "                word_dict[word] = len(word)\n",
        "\n",
        "\n",
        "\n",
        "\n",
        "\n",
        "\n",
        "    return word_dict\n",
        "\n",
        "\n",
        "\n",
        "\n",
        "\n",
        "\n",
        "\n",
        "\n"
      ]
    },
    {
      "cell_type": "code",
      "execution_count": 3,
      "metadata": {
        "colab": {
          "base_uri": "https://localhost:8080/"
        },
        "id": "BgocW5XPKPH5",
        "outputId": "86a94796-06b3-4504-9de0-04d9e464a839"
      },
      "outputs": [
        {
          "output_type": "execute_result",
          "data": {
            "text/plain": [
              "{'anticonservationist': 19,\n",
              " 'comprehensivenesses': 19,\n",
              " 'counterdemonstration': 20,\n",
              " 'counterdemonstrations': 21,\n",
              " 'counterdemonstrator': 19,\n",
              " 'counterdemonstrators': 20,\n",
              " 'counterinflationary': 19,\n",
              " 'counterpropagations': 19,\n",
              " 'counterretaliations': 19,\n",
              " 'disinterestednesses': 19,\n",
              " 'electrocardiographs': 19,\n",
              " 'extraconstitutional': 19,\n",
              " 'hyperaggressiveness': 19,\n",
              " 'hyperaggressivenesses': 21,\n",
              " 'hypersensitivenesses': 20,\n",
              " 'inappropriatenesses': 19,\n",
              " 'inconsideratenesses': 19,\n",
              " 'interdenominational': 19,\n",
              " 'irreconcilabilities': 19,\n",
              " 'microminiaturization': 20,\n",
              " 'microminiaturizations': 21,\n",
              " 'miscellaneousnesses': 19,\n",
              " 'multidenominational': 19,\n",
              " 'representativenesses': 20}"
            ]
          },
          "metadata": {},
          "execution_count": 3
        }
      ],
      "source": [
        "words_dictionary = words_dict()\n",
        "words_dictionary"
      ]
    },
    {
      "cell_type": "markdown",
      "metadata": {
        "id": "qWIPm2CKKPH6"
      },
      "source": [
        "**Q 2:**\n",
        "\n",
        "Define a function named **words_length_dict**.\n",
        "\n",
        "It will read `en_words.txt` file and will create a dictionary from these words.\n",
        "\n",
        "It will only take the words that have more than or equal to 19 letters.\n",
        "\n",
        "The Key will be the length (number of characters in word) and the Value will be a List of words which have that length.\n",
        "\n",
        "The function will return this dictionary.\n",
        "\n",
        "**Hints:**\n",
        "* open()\n",
        "\n",
        "<pre>\n",
        "Expected Output:\n",
        "\n",
        "{19: ['anticonservationist', 'comprehensivenesses', 'counterdemonstrator', ...],\n",
        " 20: ['counterdemonstration', 'counterdemonstrators', 'hypersensitivenesses', ...],\n",
        " 21: ['counterdemonstrations', 'hyperaggressivenesses', 'microminiaturizations']}\n",
        "</pre>"
      ]
    },
    {
      "cell_type": "code",
      "execution_count": 4,
      "metadata": {
        "id": "ZIa-kTTyKPH7"
      },
      "outputs": [],
      "source": [
        "# S 2:\n",
        "def words_length_dict():\n",
        "    word_length_dict = {}\n",
        "\n",
        "    with open('/content/en_words.txt', 'r') as file:\n",
        "        for line in file:\n",
        "            word = line.strip()\n",
        "            if len(word) >= 19:\n",
        "                length = len(word)\n",
        "                if length in word_length_dict:\n",
        "                    word_length_dict[length].append(word)\n",
        "                else:\n",
        "                    word_length_dict[length] = [word]\n",
        "\n",
        "    return word_length_dict\n",
        "\n",
        "\n",
        "\n",
        "\n"
      ]
    },
    {
      "cell_type": "code",
      "execution_count": 5,
      "metadata": {
        "colab": {
          "base_uri": "https://localhost:8080/"
        },
        "id": "sO3Ym5E2KPH9",
        "outputId": "35ecad71-4d4d-4b5a-d840-be1408e80a8a"
      },
      "outputs": [
        {
          "output_type": "execute_result",
          "data": {
            "text/plain": [
              "{19: ['anticonservationist',\n",
              "  'comprehensivenesses',\n",
              "  'counterdemonstrator',\n",
              "  'counterinflationary',\n",
              "  'counterpropagations',\n",
              "  'counterretaliations',\n",
              "  'disinterestednesses',\n",
              "  'electrocardiographs',\n",
              "  'extraconstitutional',\n",
              "  'hyperaggressiveness',\n",
              "  'inappropriatenesses',\n",
              "  'inconsideratenesses',\n",
              "  'interdenominational',\n",
              "  'irreconcilabilities',\n",
              "  'miscellaneousnesses',\n",
              "  'multidenominational'],\n",
              " 20: ['counterdemonstration',\n",
              "  'counterdemonstrators',\n",
              "  'hypersensitivenesses',\n",
              "  'microminiaturization',\n",
              "  'representativenesses'],\n",
              " 21: ['counterdemonstrations',\n",
              "  'hyperaggressivenesses',\n",
              "  'microminiaturizations']}"
            ]
          },
          "metadata": {},
          "execution_count": 5
        }
      ],
      "source": [
        "length_words = words_length_dict()\n",
        "length_words"
      ]
    },
    {
      "cell_type": "markdown",
      "metadata": {
        "id": "O04Fk4jmKPH-"
      },
      "source": [
        "**Q 3:**\n",
        "\n",
        "Define 4 functions named **car_1, car_2, car_3, car_4**.\n",
        "\n",
        "These functions will create dictionaries as below (name of the dictionary will be car):\n",
        "\n",
        "<pre>\n",
        "{'brand': 'Ford',\n",
        " 'model': 'Mustang',\n",
        " 'year': 1964,\n",
        " 'color': 'Red',\n",
        " 'price': 30000,\n",
        " 'km': 89000,\n",
        " 'motor': 1.6}\n",
        "</pre>\n",
        "\n",
        "Functions will create the dictionary by different ways and return the dictionary.\n",
        "\n",
        "**Hints:**\n",
        "* { }\n",
        "* dict()\n",
        "* update()"
      ]
    },
    {
      "cell_type": "code",
      "execution_count": null,
      "metadata": {
        "id": "9eEhwH-mKPH_"
      },
      "outputs": [],
      "source": [
        "# S 3:\n",
        "\n",
        "# Way 1\n",
        "def car_1():\n",
        "    car = {\n",
        "        'brand': 'Toyota',\n",
        "        'model': 'Corolla',\n",
        "        'year': 2020,\n",
        "        'color': 'Red'\n",
        "    }\n",
        "    return car\n",
        "\n"
      ]
    },
    {
      "cell_type": "code",
      "execution_count": null,
      "metadata": {
        "colab": {
          "base_uri": "https://localhost:8080/"
        },
        "id": "z4kdUJApKPH_",
        "outputId": "1f504a6a-74c0-4d18-971f-60f596cc6bb3"
      },
      "outputs": [
        {
          "output_type": "execute_result",
          "data": {
            "text/plain": [
              "{'brand': 'Toyota', 'model': 'Corolla', 'year': 2020, 'color': 'Red'}"
            ]
          },
          "metadata": {},
          "execution_count": 14
        }
      ],
      "source": [
        "car_1()"
      ]
    },
    {
      "cell_type": "code",
      "execution_count": null,
      "metadata": {
        "id": "VLVJw8yZKPH_"
      },
      "outputs": [],
      "source": [
        "# Way 2\n",
        "def car_2():\n",
        "\n",
        "    car = dict()\n",
        "\n",
        "    car['brand'] = 'Ford'\n",
        "\n",
        "    car['model'] = 'Mustang'\n",
        "\n",
        "    car['year'] = 1964\n",
        "\n",
        "    car['color'] = 'Red'\n",
        "\n",
        "    car['price'] = 30000\n",
        "\n",
        "    car['km'] = 89000\n",
        "\n",
        "    car['motor'] = 1.6\n",
        "\n",
        "\n",
        "\n",
        "    return car\n",
        "\n"
      ]
    },
    {
      "cell_type": "code",
      "execution_count": null,
      "metadata": {
        "colab": {
          "base_uri": "https://localhost:8080/"
        },
        "id": "p_es73i7KPIA",
        "outputId": "06afa988-de68-49b0-bf55-616d8c9b8bbf"
      },
      "outputs": [
        {
          "output_type": "execute_result",
          "data": {
            "text/plain": [
              "{'brand': 'Ford',\n",
              " 'model': 'Mustang',\n",
              " 'year': 1964,\n",
              " 'color': 'Red',\n",
              " 'price': 30000,\n",
              " 'km': 89000,\n",
              " 'motor': 1.6}"
            ]
          },
          "metadata": {},
          "execution_count": 16
        }
      ],
      "source": [
        "car_2()"
      ]
    },
    {
      "cell_type": "code",
      "execution_count": null,
      "metadata": {
        "id": "aMxBu9KqKPIA"
      },
      "outputs": [],
      "source": [
        "# Way 3\n",
        "def car_3():\n",
        "\n",
        "    car = dict()\n",
        "\n",
        "    car.update(\n",
        "\n",
        "        {\n",
        "\n",
        "         'brand': 'Ford',\n",
        "\n",
        "         'model': 'Mustang',\n",
        "\n",
        "         'year': 1964,\n",
        "\n",
        "         'color': 'Red',\n",
        "\n",
        "         'price': 30000,\n",
        "\n",
        "         'km': 89000,\n",
        "\n",
        "         'motor': 1.6\n",
        "\n",
        "        }\n",
        "\n",
        "    )\n",
        "\n",
        "\n",
        "\n",
        "    return car\n",
        "\n",
        "\n"
      ]
    },
    {
      "cell_type": "code",
      "execution_count": null,
      "metadata": {
        "colab": {
          "base_uri": "https://localhost:8080/"
        },
        "id": "NH3SVw6rKPIA",
        "outputId": "68fce989-6e76-44f8-e577-9a7e2a1a776a"
      },
      "outputs": [
        {
          "output_type": "execute_result",
          "data": {
            "text/plain": [
              "{'brand': 'Ford',\n",
              " 'model': 'Mustang',\n",
              " 'year': 1964,\n",
              " 'color': 'Red',\n",
              " 'price': 30000,\n",
              " 'km': 89000,\n",
              " 'motor': 1.6}"
            ]
          },
          "metadata": {},
          "execution_count": 18
        }
      ],
      "source": [
        "car_3()"
      ]
    },
    {
      "cell_type": "code",
      "execution_count": null,
      "metadata": {
        "id": "Z6M7fUUoKPIB"
      },
      "outputs": [],
      "source": [
        "# Way 4\n",
        "def car_4():\n",
        "    car = {\n",
        "        'brand': 'Honda',\n",
        "        'model': 'Civic',\n",
        "        'year': 2018,\n",
        "        'color': 'Silver'\n",
        "    }\n",
        "    return car\n",
        "\n"
      ]
    },
    {
      "cell_type": "code",
      "execution_count": null,
      "metadata": {
        "colab": {
          "base_uri": "https://localhost:8080/"
        },
        "id": "uZJC2_7_KPIB",
        "outputId": "a86017b5-aa82-4a32-893d-3da729aec178"
      },
      "outputs": [
        {
          "output_type": "execute_result",
          "data": {
            "text/plain": [
              "{'brand': 'Honda', 'model': 'Civic', 'year': 2018, 'color': 'Silver'}"
            ]
          },
          "metadata": {},
          "execution_count": 20
        }
      ],
      "source": [
        "car_4()"
      ]
    },
    {
      "cell_type": "code",
      "source": [],
      "metadata": {
        "id": "r20-ZbjYsXM7"
      },
      "execution_count": null,
      "outputs": []
    },
    {
      "cell_type": "markdown",
      "metadata": {
        "id": "TS6rxO7IKPIB"
      },
      "source": [
        "**Q 4:**\n",
        "\n",
        "Define a function named **create_a_new_car**.\n",
        "\n",
        "It will call one of the functions defined in Q3 and will get the car dictionary.\n",
        "\n",
        "Then it will copy the items of this car dictionary into another dictionary via a loop.\n",
        "\n",
        "It will first copy all the elements in car dictionary, then create new keys via appendin \"_2\" at the end of existing key, and create a new element.\n",
        "\n",
        "Values will be the same.\n",
        "\n",
        "It will return the new dictionary.\n",
        "\n",
        "**Hint:**\n",
        "* copy()\n",
        "* update()\n",
        "* items()\n",
        "\n",
        "<pre>\n",
        "Expected Output:\n",
        "\n",
        "{\n",
        " 'brand': 'Ford',\n",
        " 'model': 'Mustang',\n",
        " 'year': 1964,\n",
        " 'color': 'Red',\n",
        " 'price': 30000,\n",
        " 'km': 89000,\n",
        " 'motor': 1.6\n",
        " 'brand_2': 'Ford',\n",
        " 'model_2': 'Mustang',\n",
        " 'year_2': 1964,\n",
        " 'color_2': 'Red',\n",
        " 'price_2': 30000,\n",
        " 'km_2': 89000,\n",
        " 'motor_2': 1.6\n",
        " }\n",
        "</pre>"
      ]
    },
    {
      "cell_type": "code",
      "execution_count": null,
      "metadata": {
        "id": "LwzKLWOoKPIC"
      },
      "outputs": [],
      "source": [
        "# S 4:\n",
        "def create_a_new_car():\n",
        "    car_func = car_1  # Replace with the desired car function (car_1, car_2, car_3, or car_4)\n",
        "    car_dict = car_func()\n",
        "\n",
        "    new_car_dict = {}\n",
        "\n",
        "    for key, value in car_dict.items():\n",
        "        new_key = key + '_2'\n",
        "        new_car_dict[new_key] = value\n",
        "\n",
        "    return new_car_dict\n",
        "\n",
        "\n",
        "\n"
      ]
    },
    {
      "cell_type": "code",
      "execution_count": null,
      "metadata": {
        "colab": {
          "base_uri": "https://localhost:8080/"
        },
        "id": "6Z2UWZe7KPIC",
        "outputId": "b2c020fd-f71b-4642-b8a2-26a912be5921"
      },
      "outputs": [
        {
          "output_type": "execute_result",
          "data": {
            "text/plain": [
              "{'brand_2': 'Toyota', 'model_2': 'Corolla', 'year_2': 2020, 'color_2': 'Red'}"
            ]
          },
          "metadata": {},
          "execution_count": 28
        }
      ],
      "source": [
        "create_a_new_car()"
      ]
    }
  ]
}